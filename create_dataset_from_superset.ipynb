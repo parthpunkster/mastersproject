{
 "cells": [
  {
   "cell_type": "code",
   "execution_count": 3,
   "metadata": {},
   "outputs": [],
   "source": [
    "import os\n",
    "from os.path import isfile, join\n",
    "import shutil"
   ]
  },
  {
   "cell_type": "code",
   "execution_count": 4,
   "metadata": {},
   "outputs": [],
   "source": [
    "source_path = \"/home/bumblebee/Desktop/ngramsBigdata2\"\n",
    "target_path = \"/home/bumblebee/Desktop/bigdata3_ngrams_subset\""
   ]
  },
  {
   "cell_type": "code",
   "execution_count": 5,
   "metadata": {},
   "outputs": [],
   "source": [
    "# Create family folders for the families\n",
    "for dir in os.listdir(source_path):\n",
    "    dir_path = target_path+'/'+dir\n",
    "    os.mkdir(dir_path)"
   ]
  },
  {
   "cell_type": "code",
   "execution_count": 8,
   "metadata": {},
   "outputs": [
    {
     "name": "stdout",
     "output_type": "stream",
     "text": [
      "/home/bumblebee/Desktop/ngramsBigdata2/vobfus\n",
      "/home/bumblebee/Desktop/ngramsBigdata2/lolyda\n",
      "/home/bumblebee/Desktop/ngramsBigdata2/ceeinject\n",
      "/home/bumblebee/Desktop/ngramsBigdata2/cycbot\n",
      "/home/bumblebee/Desktop/ngramsBigdata2/bho\n",
      "/home/bumblebee/Desktop/ngramsBigdata2/zbot\n",
      "/home/bumblebee/Desktop/ngramsBigdata2/fakerean\n",
      "/home/bumblebee/Desktop/ngramsBigdata2/alureon\n",
      "/home/bumblebee/Desktop/ngramsBigdata2/winwebsec\n",
      "/home/bumblebee/Desktop/ngramsBigdata2/renos\n",
      "/home/bumblebee/Desktop/ngramsBigdata2/vundo\n",
      "/home/bumblebee/Desktop/ngramsBigdata2/hotbar\n",
      "/home/bumblebee/Desktop/ngramsBigdata2/adload\n",
      "/home/bumblebee/Desktop/ngramsBigdata2/agent\n",
      "/home/bumblebee/Desktop/ngramsBigdata2/startpage\n",
      "/home/bumblebee/Desktop/ngramsBigdata2/delfinject\n",
      "/home/bumblebee/Desktop/ngramsBigdata2/obfuscator\n",
      "/home/bumblebee/Desktop/ngramsBigdata2/rbot\n",
      "/home/bumblebee/Desktop/ngramsBigdata2/onlinegames\n"
     ]
    }
   ],
   "source": [
    "# Copy required n number of files from super set to subset belonging to every family\n",
    "n = 3265\n",
    "# n is including top.txt file\n",
    "for dir in os.listdir(source_path):\n",
    "    path_to_family = source_path+'/'+dir\n",
    "    print(path_to_family)\n",
    "    files = [join(path_to_family,f) for f in os.listdir(path_to_family) if isfile(join(path_to_family,f))][:n]\n",
    "    for file in files:\n",
    "        target_path_to_family = target_path+'/'+dir\n",
    "        shutil.copy(file,target_path_to_family)"
   ]
  },
  {
   "cell_type": "code",
   "execution_count": 11,
   "metadata": {},
   "outputs": [
    {
     "name": "stdout",
     "output_type": "stream",
     "text": [
      "/home/bumblebee/Desktop/bigdata3_ngrams_subset/vobfus\n",
      "3265\n",
      "/home/bumblebee/Desktop/bigdata3_ngrams_subset/lolyda\n",
      "3265\n",
      "/home/bumblebee/Desktop/bigdata3_ngrams_subset/ceeinject\n",
      "3265\n",
      "/home/bumblebee/Desktop/bigdata3_ngrams_subset/cycbot\n",
      "3265\n",
      "/home/bumblebee/Desktop/bigdata3_ngrams_subset/bho\n",
      "3265\n",
      "/home/bumblebee/Desktop/bigdata3_ngrams_subset/zbot\n",
      "3265\n",
      "/home/bumblebee/Desktop/bigdata3_ngrams_subset/fakerean\n",
      "3265\n",
      "/home/bumblebee/Desktop/bigdata3_ngrams_subset/alureon\n",
      "3265\n",
      "/home/bumblebee/Desktop/bigdata3_ngrams_subset/winwebsec\n",
      "3265\n",
      "/home/bumblebee/Desktop/bigdata3_ngrams_subset/renos\n",
      "3265\n",
      "/home/bumblebee/Desktop/bigdata3_ngrams_subset/vundo\n",
      "3265\n",
      "/home/bumblebee/Desktop/bigdata3_ngrams_subset/hotbar\n",
      "3265\n",
      "/home/bumblebee/Desktop/bigdata3_ngrams_subset/agent\n",
      "3265\n",
      "/home/bumblebee/Desktop/bigdata3_ngrams_subset/startpage\n",
      "3265\n",
      "/home/bumblebee/Desktop/bigdata3_ngrams_subset/delfinject\n",
      "3265\n",
      "/home/bumblebee/Desktop/bigdata3_ngrams_subset/obfuscator\n",
      "3265\n",
      "/home/bumblebee/Desktop/bigdata3_ngrams_subset/onlinegames\n",
      "3265\n"
     ]
    }
   ],
   "source": [
    "# print number of files in each family in target folder\n",
    "for dir in os.listdir(target_path):\n",
    "    path_to_family = target_path+'/'+dir\n",
    "    print(path_to_family)\n",
    "    files = [join(path_to_family,f) for f in os.listdir(path_to_family) if isfile(join(path_to_family,f))]\n",
    "    print(len(files))"
   ]
  },
  {
   "cell_type": "code",
   "execution_count": null,
   "metadata": {},
   "outputs": [],
   "source": []
  }
 ],
 "metadata": {
  "kernelspec": {
   "display_name": "Python 3",
   "language": "python",
   "name": "python3"
  },
  "language_info": {
   "codemirror_mode": {
    "name": "ipython",
    "version": 3
   },
   "file_extension": ".py",
   "mimetype": "text/x-python",
   "name": "python",
   "nbconvert_exporter": "python",
   "pygments_lexer": "ipython3",
   "version": "3.7.2"
  }
 },
 "nbformat": 4,
 "nbformat_minor": 2
}
